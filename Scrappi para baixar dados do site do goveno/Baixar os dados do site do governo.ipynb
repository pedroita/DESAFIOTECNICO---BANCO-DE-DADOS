{
 "cells": [
  {
   "cell_type": "code",
   "execution_count": 2,
   "metadata": {},
   "outputs": [
    {
     "name": "stderr",
     "output_type": "stream",
     "text": [
      "C:\\Users\\pedro\\AppData\\Local\\Temp\\ipykernel_9896\\2294868585.py:4: DeprecationWarning: \n",
      "Pyarrow will become a required dependency of pandas in the next major release of pandas (pandas 3.0),\n",
      "(to allow more performant data types, such as the Arrow string type, and better interoperability with other libraries)\n",
      "but was not found to be installed on your system.\n",
      "If this would cause problems for you,\n",
      "please provide us feedback at https://github.com/pandas-dev/pandas/issues/54466\n",
      "        \n",
      "  import pandas as pd\n"
     ]
    }
   ],
   "source": [
    "import requests\n",
    "from bs4 import BeautifulSoup\n",
    "import os\n",
    "import pandas as pd\n",
    "\n"
   ]
  },
  {
   "cell_type": "code",
   "execution_count": null,
   "metadata": {},
   "outputs": [],
   "source": [
    "def download_files(year):\n",
    "    url = f\"https://dadosabertos.ans.gov.br/FTP/PDA/demonstracoes_contabeis/{year}/\"\n",
    "\n",
    "    def download_file(url, directory):\n",
    "        filename = os.path.join(directory, url.split(\"/\")[-1])\n",
    "        with open(filename, 'wb') as f:\n",
    "            response = requests.get(url)\n",
    "            f.write(response.content)\n",
    "\n",
    "    response = requests.get(url)\n",
    "\n",
    "    if response.status_code == 200:\n",
    "        soup = BeautifulSoup(response.text, 'html.parser')\n",
    "        \n",
    "        links = soup.find_all('a')\n",
    "        \n",
    "        download_directory = r\"C:\\Users\\pedro\\OneDrive\\Área de Trabalho\\teste2\\Desafio 3\"\n",
    "        \n",
    "        os.makedirs(download_directory, exist_ok=True)\n",
    "        \n",
    "        for link in links:\n",
    "            href = link.get('href')\n",
    "            if href.endswith('.zip'):\n",
    "                download_file(url + href, download_directory)\n",
    "                print(f\"Arquivo {href} baixado com sucesso.\")\n",
    "    else:\n",
    "        print(\"Falha ao acessar o site.\")\n",
    "\n",
    "\n",
    "download_files('2022')\n",
    "download_files('2023')\n",
    "print(\"Downlod concluido!\")\n"
   ]
  }
 ],
 "metadata": {
  "kernelspec": {
   "display_name": "Python 3",
   "language": "python",
   "name": "python3"
  },
  "language_info": {
   "codemirror_mode": {
    "name": "ipython",
    "version": 3
   },
   "file_extension": ".py",
   "mimetype": "text/x-python",
   "name": "python",
   "nbconvert_exporter": "python",
   "pygments_lexer": "ipython3",
   "version": "3.12.1"
  }
 },
 "nbformat": 4,
 "nbformat_minor": 2
}
